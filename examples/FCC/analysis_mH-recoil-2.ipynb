{
 "cells": [
  {
   "cell_type": "markdown",
   "metadata": {},
   "source": [
    "# FCCee Analysis Examples\n",
    "Using the example `higgs/mH-recoil/mumu` from [FCCAnalyses](https://github.com/HEP-FCC/FCCAnalyses)"
   ]
  },
  {
   "cell_type": "code",
   "execution_count": 1,
   "metadata": {},
   "outputs": [
    {
     "name": "stderr",
     "output_type": "stream",
     "text": [
      "\u001b[32m\u001b[1mPrecompiling\u001b[22m\u001b[39m EDM4hep\n",
      "\u001b[32m  ✓ \u001b[39mEDM4hep\n",
      "  1 dependency successfully precompiled in 5 seconds. 225 already precompiled.\n"
     ]
    }
   ],
   "source": [
    "using EDM4hep\n",
    "using EDM4hep.RootIO\n",
    "using EDM4hep.SystemOfUnits\n",
    "using EDM4hep.Histograms"
   ]
  },
  {
   "cell_type": "markdown",
   "metadata": {},
   "source": [
    "## Definition of some analysis functions\n",
    "These are couple of examples of high-level functions that makes use of `ReconstructedParticle` objects to build resonances and recoils. They make use of standard Julia functions to generate combinations, to sort a vector, and to work with LorentzVectors.  "
   ]
  },
  {
   "cell_type": "code",
   "execution_count": 2,
   "metadata": {},
   "outputs": [],
   "source": [
    "# re-using convenient existing packages \n",
    "using LorentzVectorHEP\n",
    "using Combinatorics\n",
    "\n",
    "\"\"\"\n",
    "    resonanceBuilder(rmass::AbstractFloat, legs::AbstractVector{ReconstructedParticle})\n",
    "\n",
    "Returns a container with the best resonance of 2 by 2 combinatorics of the `legs` container\n",
    "sorted by closest to the input `rmass` in absolute value.\n",
    "\"\"\"\n",
    "function resonanceBuilder(rmass::AbstractFloat, legs::AbstractVector{ReconstructedParticle})\n",
    "    result = ReconstructedParticle[]\n",
    "    length(legs) < 2 && return result\n",
    "    for (a,b) in combinations(legs, 2)\n",
    "        lv = LorentzVector(a.energy, a.momentum...) + LorentzVector(b.energy, b.momentum...)\n",
    "        rcharge = a.charge + b.charge\n",
    "        push!(result, ReconstructedParticle(mass=mass(lv), momentum=(lv.x, lv.y, lv.z), charge=rcharge))\n",
    "    end\n",
    "    sort!(result, lt =  (a,b) -> abs(rmass-a.mass) < abs(rmass-b.mass))\n",
    "    return result[1:1]  # take the best one\n",
    "end;\n",
    "\n",
    "\"\"\"\n",
    "    recoilBuilder(comenergy::AbstractFloat, legs::AbstractVector{ReconstructedParticle})\n",
    "\n",
    "    build the recoil from an arbitrary list of input `ReconstructedParticle`s and the center of mass energy.\n",
    "\"\"\"\n",
    "function recoilBuilder(comenergy::AbstractFloat, in::AbstractVector{ReconstructedParticle})\n",
    "    result = ReconstructedParticle[]\n",
    "    isempty(in) && return result\n",
    "    recoil_lv = LorentzVector(comenergy, 0, 0, 0)\n",
    "    for p in in\n",
    "        recoil_lv -= LorentzVector(p.mass, p.momentum...)\n",
    "    end\n",
    "    push!(result, ReconstructedParticle(mass=mass(recoil_lv), momentum=(recoil_lv.x, recoil_lv.y, recoil_lv.z)))\n",
    "    return result\n",
    "end;"
   ]
  },
  {
   "cell_type": "markdown",
   "metadata": {},
   "source": [
    "## Defining the Final N-tuple\n",
    "We create a custom structure with all summary information of each event."
   ]
  },
  {
   "cell_type": "code",
   "execution_count": 18,
   "metadata": {},
   "outputs": [],
   "source": [
    "using DataFrames\n",
    "df = DataFrame(Zcand_m = Float32[], Zcand_recoil_m = Float32[], Zcand_q = Int32[], Zcand_recoil_θ = Float32[]);"
   ]
  },
  {
   "cell_type": "markdown",
   "metadata": {},
   "source": [
    "## Open the data file to get the events\n",
    "- It is using a file in EOS with the `root:` protocol\n",
    "- The obtained `events` is a `LazyTree` created by the [UnROOT.jl](https://github.com/JuliaHEP/UnROOT.jl) package. As the name indicates no event is actually read yet."
   ]
  },
  {
   "cell_type": "code",
   "execution_count": 19,
   "metadata": {},
   "outputs": [],
   "source": [
    "f = \"root://eospublic.cern.ch//eos/experiment/fcc/ee/generation/DelphesEvents/winter2023/IDEA/p8_ee_ZZ_ecm240/events_000189367.root\"\n",
    "\n",
    "reader = RootIO.Reader(f);\n",
    "events = RootIO.get(reader, \"events\");"
   ]
  },
  {
   "cell_type": "markdown",
   "metadata": {},
   "source": [
    "## Loop over events and fill the DataFrame"
   ]
  },
  {
   "cell_type": "code",
   "execution_count": 20,
   "metadata": {},
   "outputs": [
    {
     "name": "stdout",
     "output_type": "stream",
     "text": [
      " 28.983505 seconds (42.87 M allocations: 9.694 GiB, 6.04% gc time, 0.25% compilation time)\n"
     ]
    }
   ],
   "source": [
    "@time for evt in events\n",
    "    #---get the collection of ReconstructedParticles and Muons\n",
    "    recps = RootIO.get(reader, evt, \"ReconstructedParticles\");\n",
    "    muons = RootIO.get(reader, evt, \"Muon#0\"; btype=ObjectID{ReconstructedParticle})\n",
    "    \n",
    "    sel_muons = filter(x -> pₜ(x) > 10GeV, muons)\n",
    "    zed_leptonic = resonanceBuilder(91GeV, sel_muons)\n",
    "    zed_leptonic_recoil = recoilBuilder(240GeV, zed_leptonic)\n",
    "    if length(zed_leptonic) == 1    #  Filter to have exactly one Z candidate\n",
    "        Zcand_m        = zed_leptonic[1].mass\n",
    "        Zcand_recoil_m = zed_leptonic_recoil[1].mass\n",
    "        Zcand_recoil_θ = zed_leptonic_recoil[1].momentum |> EDM4hep.θ\n",
    "        Zcand_q        = zed_leptonic[1].charge\n",
    "        \n",
    "        if 80GeV <= Zcand_m <= 100GeV\n",
    "            push!(df, (Zcand_m, Zcand_recoil_m, Zcand_q, Zcand_recoil_θ))\n",
    "        end\n",
    "    end\n",
    "end"
   ]
  },
  {
   "cell_type": "markdown",
   "metadata": {},
   "source": [
    "## Plot the results"
   ]
  },
  {
   "cell_type": "code",
   "execution_count": 21,
   "metadata": {},
   "outputs": [],
   "source": [
    "#using Plots\n",
    "#histogram(df.Zcand_m, title=\"Resonance mass plot\",xlabel=\"GeV\")"
   ]
  },
  {
   "cell_type": "code",
   "execution_count": 22,
   "metadata": {},
   "outputs": [],
   "source": [
    "#histogram(df.Zcand_recoil_m)"
   ]
  },
  {
   "cell_type": "code",
   "execution_count": 23,
   "metadata": {},
   "outputs": [],
   "source": [
    "#histogram(df.Zcand_q)"
   ]
  },
  {
   "cell_type": "code",
   "execution_count": 24,
   "metadata": {},
   "outputs": [],
   "source": [
    "#using CSV\n",
    "#CSV.write(\"m_H-recoil.csv\", df)"
   ]
  },
  {
   "cell_type": "code",
   "execution_count": 25,
   "metadata": {},
   "outputs": [
    {
     "data": {
      "text/plain": [
       "\u001b[34m✏ \u001b[39mParquet2.FileWriter{IOStream}(m_H-recoil.parquet)"
      ]
     },
     "execution_count": 25,
     "metadata": {},
     "output_type": "execute_result"
    }
   ],
   "source": [
    "using Parquet2\n",
    "Parquet2.writefile(\"m_H-recoil.parquet\", df)"
   ]
  },
  {
   "cell_type": "code",
   "execution_count": null,
   "metadata": {},
   "outputs": [],
   "source": []
  }
 ],
 "metadata": {
  "@webio": {
   "lastCommId": null,
   "lastKernelId": null
  },
  "kernelspec": {
   "display_name": "Julia 1.10.0",
   "language": "julia",
   "name": "julia-1.10"
  },
  "language_info": {
   "file_extension": ".jl",
   "mimetype": "application/julia",
   "name": "julia",
   "version": "1.10.0"
  }
 },
 "nbformat": 4,
 "nbformat_minor": 4
}
