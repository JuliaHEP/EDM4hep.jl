{
 "cells": [
  {
   "cell_type": "markdown",
   "source": [
    "# EDM4hep.jl EDM I/O Tutorial\n",
    "This tutorial shows how to read EDM4hep data files and perform some simple analysis\n",
    "\n",
    "\n",
    "\n",
    "\n",
    "#### Loading the necessary modules\n",
    "- We will use the `EDM4hep` module that defines all the EDM4hep types and its relations and links.\n",
    "- We will use the [`FHist`](https://juliaphysics.github.io/FHist.jl/stable/) module to create histograms\n",
    "- We will use the [`Plots`](https://docs.juliaplots.org/stable/) module to plot the histograms\n",
    "If these modules are not installed, you can install them by running the following commands:\n",
    "```julia\n",
    "using Pkg\n",
    "Pkg.add(\"EDM4hep\")\n",
    "Pkg.add(\"FHist\")\n",
    "Pkg.add(\"Plots\")\n",
    "```"
   ],
   "metadata": {}
  },
  {
   "outputs": [],
   "cell_type": "code",
   "source": [
    "using EDM4hep\n",
    "using EDM4hep.RootIO\n",
    "using Base.Iterators: partition, take\n",
    "using FHist\n",
    "using Plots: plot, scatter, plot!, theme"
   ],
   "metadata": {},
   "execution_count": null
  },
  {
   "cell_type": "markdown",
   "source": [
    "## Reading an EDM4hep file\n",
    "We will read an EDM4hep file with the `RootIO.Reader` function. This function returns a reader object that can be used to access\n",
    "the events in the file. The input file is a ROOT file with the EDM4hep data model and is located to the path `ttbar_edm4hep_digi.root`."
   ],
   "metadata": {}
  },
  {
   "outputs": [],
   "cell_type": "code",
   "source": [
    "finput = joinpath(@__DIR__,\"../../examples\" ,\"ttbar_edm4hep_digi.root\")"
   ],
   "metadata": {},
   "execution_count": null
  },
  {
   "cell_type": "markdown",
   "source": [
    "We create a reader object to access the events in the file. The object displays a summary table of the content of the file."
   ],
   "metadata": {}
  },
  {
   "outputs": [],
   "cell_type": "code",
   "source": [
    "reader = RootIO.Reader(finput)"
   ],
   "metadata": {},
   "execution_count": null
  },
  {
   "cell_type": "markdown",
   "source": [
    "### Accessing the events\n",
    "The `TTree` called `events` contains the events in the file. We can access the events by using the `RootIO.get` function\n",
    "with the reader object and the name of the `TTree`."
   ],
   "metadata": {}
  },
  {
   "outputs": [],
   "cell_type": "code",
   "source": [
    "events = RootIO.get(reader, \"events\");"
   ],
   "metadata": {},
   "execution_count": null
  },
  {
   "cell_type": "markdown",
   "source": [
    "We can access the first event in the file by using the index `1` in the `events` array."
   ],
   "metadata": {}
  },
  {
   "outputs": [],
   "cell_type": "code",
   "source": [
    "evt = events[1];"
   ],
   "metadata": {},
   "execution_count": null
  },
  {
   "cell_type": "markdown",
   "source": [
    "the `evt` object is a `UnROOT.LazyEvent`. Each leaf (column) can be accessed directlyt if you know the name\n",
    "of the leaf. Typically the name is of the form `<collection_name>_<field_name>`. The full list of names can be\n",
    "obtained by calling the `names` function on the `events` object. For example:"
   ],
   "metadata": {}
  },
  {
   "outputs": [],
   "cell_type": "code",
   "source": [
    "for n in names(events) |> sort!\n",
    "    startswith(n, \"ECalBarrelCollection\") && println(n)\n",
    "end"
   ],
   "metadata": {},
   "execution_count": null
  },
  {
   "cell_type": "markdown",
   "source": [
    "### Accessing the collections\n",
    "The available collections in the event can be obtained by displaying the reader object."
   ],
   "metadata": {}
  },
  {
   "outputs": [],
   "cell_type": "code",
   "source": [
    "show(reader)"
   ],
   "metadata": {},
   "execution_count": null
  },
  {
   "cell_type": "markdown",
   "source": [
    "The `RootIO.get` function can be used to access the collections in the event.\n",
    "The function takes the reader object, the event object and the name of the collection as arguments."
   ],
   "metadata": {}
  },
  {
   "outputs": [],
   "cell_type": "code",
   "source": [
    "calo = RootIO.get(reader, evt, \"AllCaloHitContributionsCombined\");\n",
    "hits = RootIO.get(reader, evt, \"ECalBarrelCollection\");\n",
    "mcps = RootIO.get(reader, evt, \"MCParticle\");"
   ],
   "metadata": {},
   "execution_count": null
  },
  {
   "cell_type": "markdown",
   "source": [
    "The `calo` object is a `EDM4hep.EDCollection` object that contains the calorimeter hit contributions.\n",
    "The `hits` object is a `EDM4hep.EDCollection` object that contains the hits in the ECal barrel.\n",
    "The `mcps` object is a `EDM4hep.EDCollection` object that contains the MCParticles.\n",
    "\n",
    "We can now print some information about the collections."
   ],
   "metadata": {}
  },
  {
   "outputs": [],
   "cell_type": "code",
   "source": [
    "for hit in take(hits, 20)\n",
    "    println(\"ECAL Hit $(hit.index) has energy $(hit.energy) at position $(hit.position) with $(length(hit.contributions)) contributions\")\n",
    "end"
   ],
   "metadata": {},
   "execution_count": null
  },
  {
   "cell_type": "markdown",
   "source": [
    "Lets check whether the total energy in the hits is the same as the sum of all the calorimeter contributions.\n",
    "This an example to show the expressivity of the Julia language.\n",
    "We can construct a `StructArray` with all the related hit contributions and use the `sum` function\n",
    "to sum the energy of all the contributions as a column of the constructed SoA."
   ],
   "metadata": {}
  },
  {
   "outputs": [],
   "cell_type": "code",
   "source": [
    "for hit in hits\n",
    "    StructArray(hit.contributions).energy |> sum |> c -> c ≈ hit.energy || println(\"Hit $(hit.index) has energy $(hit.energy) and contributions $(c)\")\n",
    "end"
   ],
   "metadata": {},
   "execution_count": null
  },
  {
   "cell_type": "markdown",
   "source": [
    "### Drawing the EDMM4hep data\n",
    "The following shows how easy is to draw EDM4hep event using the `Plots` module. In this example we want to plot the calorimeter hits\n",
    "in the space with dots with the size proportional to the energy of the hit."
   ],
   "metadata": {}
  },
  {
   "outputs": [],
   "cell_type": "code",
   "source": [
    "maxE = hits.energy |> maximum\n",
    "scatter(hits.position.x, hits.position.y, hits.position.z,\n",
    "        markersize = (hits.energy/maxE)*10, color = :blue)"
   ],
   "metadata": {},
   "execution_count": null
  },
  {
   "cell_type": "markdown",
   "source": [
    "The projection in the X-Y plane is shown below."
   ],
   "metadata": {}
  },
  {
   "outputs": [],
   "cell_type": "code",
   "source": [
    "scatter(hits.position.x, hits.position.y, markersize = (hits.energy/maxE)*10, color = :blue)"
   ],
   "metadata": {},
   "execution_count": null
  },
  {
   "cell_type": "markdown",
   "source": [
    "Accessing the `hit` attributes as columns of the `hits` object is very efficient.\n",
    "Lets verify it. Using the `@btime` macro from the `BenchmarkTools` module we can measure the time to access the `energy` column."
   ],
   "metadata": {}
  },
  {
   "outputs": [],
   "cell_type": "code",
   "source": [
    "using BenchmarkTools\n",
    "@benchmark hits.energy |> maximum"
   ],
   "metadata": {},
   "execution_count": null
  },
  {
   "cell_type": "markdown",
   "source": [
    "The time to access the `energy` column is very small."
   ],
   "metadata": {}
  },
  {
   "outputs": [],
   "cell_type": "code",
   "source": [
    "@benchmark begin\n",
    "    _max = 0.0f0\n",
    "    for h in hits\n",
    "        _max = max(_max, h.energy)\n",
    "    end\n",
    "    _max\n",
    "end"
   ],
   "metadata": {},
   "execution_count": null
  },
  {
   "cell_type": "markdown",
   "source": [
    "The time to access the `energy` column using a loop is much larger."
   ],
   "metadata": {}
  },
  {
   "cell_type": "markdown",
   "source": [
    "---\n",
    "\n",
    "*This notebook was generated using [Literate.jl](https://github.com/fredrikekre/Literate.jl).*"
   ],
   "metadata": {}
  }
 ],
 "nbformat_minor": 3,
 "metadata": {
  "language_info": {
   "file_extension": ".jl",
   "mimetype": "application/julia",
   "name": "julia",
   "version": "1.11.4"
  },
  "kernelspec": {
   "name": "julia-1.11",
   "display_name": "Julia 1.11.4",
   "language": "julia"
  }
 },
 "nbformat": 4
}
