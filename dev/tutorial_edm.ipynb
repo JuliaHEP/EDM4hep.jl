{
 "cells": [
  {
   "cell_type": "markdown",
   "source": [
    "# EDM4hep.jl EDM Tutorial\n",
    "This tutorial shows how to use the EDM4hep Julia types to create data models in memory.\n",
    "\n",
    "\n",
    "\n",
    "\n",
    "#### Loading the necessary modules\n",
    "- We will use the `EDM4hep` module that defines all the EDM4hep types and its relations and links.\n",
    "- We will use the [`PYTHIA8`](https://juliahep.github.io/PYTHIA8.jl/stable/) module to generate realistic MC Particles\n",
    "- We will use the [`Corpuscles`](https://juliaphysics.github.io/Corpuscles.jl/stable/) module to access the properties of the particles\n",
    "- We will use the [`FHist`](https://juliaphysics.github.io/FHist.jl/stable/) module to create histograms\n",
    "- We will use the [`Plots`](https://docs.juliaplots.org/stable/) module to plot the histograms\n",
    "If these modules are not installed, you can install them by running the following commands:\n",
    "```julia\n",
    "using Pkg\n",
    "Pkg.add(\"EDM4hep\")\n",
    "Pkg.add(\"PYTHIA8\")\n",
    "Pkg.add(\"FHist\")\n",
    "Pkg.add(\"Plots\")\n",
    "```"
   ],
   "metadata": {}
  },
  {
   "outputs": [],
   "cell_type": "code",
   "source": [
    "using EDM4hep\n",
    "using PYTHIA8\n",
    "using Corpuscles: hascharm, hasstrange, ismeson, isbaryon\n",
    "using FHist\n",
    "using Plots: plot, plot!, theme"
   ],
   "metadata": {},
   "execution_count": null
  },
  {
   "cell_type": "markdown",
   "source": [
    "## Create a collection of MCParticles in memory\n",
    "We will create a collection of MCParticles explicitly"
   ],
   "metadata": {}
  },
  {
   "outputs": [],
   "cell_type": "code",
   "source": [
    "p1 = MCParticle(PDG=2212, mass=0.938, momentum=(0.0, 0.0, 7000.0), generatorStatus=3);\n",
    "p2 = MCParticle(PDG=2212, mass=0.938, momentum=(0.0, 0.0, -7000.0), generatorStatus=3);"
   ],
   "metadata": {},
   "execution_count": null
  },
  {
   "cell_type": "markdown",
   "source": [
    "The particles `p1` and `p2` are the initial protons in the event."
   ],
   "metadata": {}
  },
  {
   "cell_type": "markdown",
   "source": [
    "### Accessing the properties of the MCParticles\n",
    "You can access the properties of the particles as follows:"
   ],
   "metadata": {}
  },
  {
   "outputs": [],
   "cell_type": "code",
   "source": [
    "println(\"Particle p1 has PDG=$(p1.PDG), mass=$(p1.mass), momentum=$(p1.momentum), and generatorStatus=$(p1.generatorStatus)\")\n",
    "println(\"Particle p2 has PDG=$(p2.PDG), mass=$(p2.mass), momentum=$(p2.momentum), and generatorStatus=$(p2.generatorStatus)\")"
   ],
   "metadata": {},
   "execution_count": null
  },
  {
   "cell_type": "markdown",
   "source": [
    "The names of the particles can be accessed using the `name` property (added to MCParticle)"
   ],
   "metadata": {}
  },
  {
   "outputs": [],
   "cell_type": "code",
   "source": [
    "println(\"Particle p1 has name=$(p1.name)\")\n",
    "println(\"Particle p2 has name=$(p2.name)\")"
   ],
   "metadata": {},
   "execution_count": null
  },
  {
   "cell_type": "markdown",
   "source": [
    "The energy of the particles can be accessed using the `energy` property (added to MCParticle)"
   ],
   "metadata": {}
  },
  {
   "outputs": [],
   "cell_type": "code",
   "source": [
    "println(\"Particle p1 has energy=$(p1.energy)\")\n",
    "println(\"Particle p2 has energy=$(p2.energy)\")"
   ],
   "metadata": {},
   "execution_count": null
  },
  {
   "cell_type": "markdown",
   "source": [
    "You can see the full documentation of the `MCParticle` type to see all the available properties\n",
    "by executing the command `?MCParticle` or using the `@doc` macro as follows:\n",
    "```julia\n",
    "@doc MCParticle\n",
    "```"
   ],
   "metadata": {}
  },
  {
   "cell_type": "markdown",
   "source": [
    "### Modifying the properties of the MCParticles"
   ],
   "metadata": {}
  },
  {
   "cell_type": "markdown",
   "source": [
    "For example the following line will raise an error"
   ],
   "metadata": {}
  },
  {
   "outputs": [],
   "cell_type": "code",
   "source": [
    "try\n",
    "    p1.time = 1.1\n",
    "catch e\n",
    "    println(e)\n",
    "end"
   ],
   "metadata": {},
   "execution_count": null
  },
  {
   "cell_type": "markdown",
   "source": [
    "To change the time property of the particle `p1` we can use the `@set` macro as follows:"
   ],
   "metadata": {}
  },
  {
   "outputs": [],
   "cell_type": "code",
   "source": [
    "p1 = @set p1.time = 1.1;"
   ],
   "metadata": {},
   "execution_count": null
  },
  {
   "cell_type": "markdown",
   "source": [
    "Now we can access the new property"
   ],
   "metadata": {}
  },
  {
   "outputs": [],
   "cell_type": "code",
   "source": [
    "println(\"Particle p1 has time = $(p1.time)\")"
   ],
   "metadata": {},
   "execution_count": null
  },
  {
   "cell_type": "markdown",
   "source": [
    "### Create a tree of MCParticles\n",
    "We will create a tree of MCParticles by adding daughters and parents to the particles"
   ],
   "metadata": {}
  },
  {
   "outputs": [],
   "cell_type": "code",
   "source": [
    "p3 = MCParticle(PDG=1, mass=0.0, momentum=(0.750, -1.569, 32.191), generatorStatus=3)\n",
    "p3, p1 = add_parent(p3, p1)"
   ],
   "metadata": {},
   "execution_count": null
  },
  {
   "cell_type": "markdown",
   "source": [
    "Lets add more particles to the tree"
   ],
   "metadata": {}
  },
  {
   "outputs": [],
   "cell_type": "code",
   "source": [
    "p4 = MCParticle(PDG=-2, mass=0.0, momentum=(-3.047, -19.000, -54.629), generatorStatus=3)\n",
    "p4, p2 = add_parent(p4, p2)\n",
    "\n",
    "p5 = MCParticle(PDG=-24, mass=80.799, momentum=(1.517, -20.68, -20.605), generatorStatus=3)\n",
    "p5, p1 = add_parent(p5, p1)\n",
    "p5, p2 = add_parent(p5, p2)\n",
    "\n",
    "p6 = MCParticle(PDG=22, mass=0.0, momentum=(-3.813, 0.113, -1.833), generatorStatus=1)\n",
    "p6, p1 = add_parent(p6, p1)\n",
    "p6, p2 = add_parent(p6, p2)\n",
    "\n",
    "p7 = MCParticle(PDG=1, mass=0.0, momentum=(-2.445, 28.816, 6.082), generatorStatus=1)\n",
    "p7, p5 = add_parent(p7, p5)\n",
    "\n",
    "p8 = MCParticle(PDG=-2, mass=0.0, momentum=(3.962, -49.498, -26.687), generatorStatus=1)\n",
    "p8, p5 = add_parent(p8, p5)"
   ],
   "metadata": {},
   "execution_count": null
  },
  {
   "cell_type": "markdown",
   "source": [
    "### Iterate over the particles\n",
    "Now that we have constructed the tree in memory, we can iterate over the particles, daughters and parents\n",
    "The function `getEDCollection` returns the collection of particles (`EDCollection{MCParticle}`). The one-to-many relations\n",
    "are stored in the `daughters` and `parents` properties of the `MCParticle` type. They can be iterated as follows:"
   ],
   "metadata": {}
  },
  {
   "outputs": [],
   "cell_type": "code",
   "source": [
    "for p in getEDCollection(MCParticle)\n",
    "    println(\"MCParticle $(p.index) with PDG=$(p.PDG) and momentum $(p.momentum) has $(length(p.daughters)) daughters\")\n",
    "    for d in p.daughters\n",
    "        println(\"   ---> $(d.index) with PDG=$(d.PDG) and momentum $(d.momentum)\")\n",
    "    end\n",
    "end"
   ],
   "metadata": {},
   "execution_count": null
  },
  {
   "cell_type": "markdown",
   "source": [
    "### One-to-one relations\n",
    "The type `SimTrackerHit` has a one-to-one relation with the type `MCParticle`. Lets create a hit and associate it to a\n",
    "particle in the tree. We use the keyword argument `particle` to associate the hit to the particle, like this:"
   ],
   "metadata": {}
  },
  {
   "outputs": [],
   "cell_type": "code",
   "source": [
    "hit = SimTrackerHit(cellID=0xabadcaffee, eDep=0.1, position=(0.0, 0.0, 0.0), particle=p7);\n",
    "println(\"index=$(hit.index)\")"
   ],
   "metadata": {},
   "execution_count": null
  },
  {
   "cell_type": "markdown",
   "source": [
    "The value #0 indicates that is not registered. To register it, we can use the function `register` to the default `EDCollection`"
   ],
   "metadata": {}
  },
  {
   "outputs": [],
   "cell_type": "code",
   "source": [
    "nhit = register(hit)\n",
    "println(\"index=$(nhit.index)\")"
   ],
   "metadata": {},
   "execution_count": null
  },
  {
   "cell_type": "markdown",
   "source": [
    "Now the hit is registered and can be accessed by the `getEDCollection` function"
   ],
   "metadata": {}
  },
  {
   "outputs": [],
   "cell_type": "code",
   "source": [
    "for h in getEDCollection(SimTrackerHit)\n",
    "    println(\"SimTrackerHit in cellID=$(string(h.cellID, base=16)) with eDep=$(h.eDep) and position=$(h.position) associated to particle $(h.particle.index)\")\n",
    "end"
   ],
   "metadata": {},
   "execution_count": null
  },
  {
   "cell_type": "markdown",
   "source": [
    "Alternatively, instead of using the `register` function, we can also use the function `push!` to a specific `EDCollection`."
   ],
   "metadata": {}
  },
  {
   "outputs": [],
   "cell_type": "code",
   "source": [
    "hitcollection = EDCollection{SimTrackerHit}()\n",
    "push!(hitcollection, hit)\n",
    "push!(hitcollection, hit)\n",
    "for h in hitcollection\n",
    "    println(\"SimTrackerHit in cellID=$(string(h.cellID, base=16)) with eDep=$(h.eDep) and position=$(h.position) associated to particle $(h.particle.index)\")\n",
    "end"
   ],
   "metadata": {},
   "execution_count": null
  },
  {
   "cell_type": "markdown",
   "source": [
    "### One-to-many relations\n",
    "The type `Track` has a one-to-many relation with objects of type `TrackerHit` that have\n",
    "created the `Track`. The `Track` type has a `trackerHits` property that behaves as a vector of `TrackerHit` objects.\n",
    "Functions `pushToTrackerHits` and `popFromTrackerHits` are provided\n",
    "to create the relation between the `Track` and the `TrackerHit`."
   ],
   "metadata": {}
  },
  {
   "outputs": [],
   "cell_type": "code",
   "source": [
    "t_hit1 = TrackerHit3D(cellID=0x1, eDep=0.1, position=(1., 1., 1.))\n",
    "t_hit2 = TrackerHit3D(cellID=0x1, eDep=0.2, position=(2., 2., 2.))\n",
    "track = Track()\n",
    "track = pushToTrackerHits(track, t_hit1)\n",
    "track = pushToTrackerHits(track, t_hit2)\n",
    "println(\"Track has $(length(track.trackerHits)) hits\")\n",
    "for h in track.trackerHits\n",
    "   println(\"TrackerHit in cellID=$(string(h.cellID, base=16)) with eDep=$(h.eDep) and position=$(h.position)\")\n",
    "end"
   ],
   "metadata": {},
   "execution_count": null
  },
  {
   "cell_type": "markdown",
   "source": [
    "The `Track` object has a `trackerHits` property that can be iterated and index of `TrackerHit3D` objects."
   ],
   "metadata": {}
  },
  {
   "outputs": [],
   "cell_type": "code",
   "source": [
    "println(\"Hit 1: $(track.trackerHits[1])\")\n",
    "println(\"Hit 2: $(track.trackerHits[2])\")"
   ],
   "metadata": {},
   "execution_count": null
  },
  {
   "cell_type": "markdown",
   "source": [
    "We can remove the hits from the track using the `popFromTrackerHits` function"
   ],
   "metadata": {}
  },
  {
   "outputs": [],
   "cell_type": "code",
   "source": [
    "track = popFromTrackerHits(track)\n",
    "for h in track.trackerHits\n",
    "    println(\"TrackerHit in cellID=$(string(h.cellID, base=16)) with eDep=$(h.eDep) and position=$(h.position)\")\n",
    " end\n",
    "println(\"After pop Track has $(length(track.trackerHits)) hits\")"
   ],
   "metadata": {},
   "execution_count": null
  },
  {
   "cell_type": "markdown",
   "source": [
    "## Convert PYTHIA event to MCParticles\n",
    "Next we will generate a PYTHIA event and convert it to `MCParticle`s and use the interface provided by EDM4hep to\n",
    "navigate through the particles.\n",
    "\n",
    "### Conversion function of PYTHIA event to MCParticles\n",
    "The following function `convertToEDM` takes a `PYTHIA8.Event` object and converts it to a collection of `MCParticle` objects.\n",
    "The properties of a PYTHIA `Particle` are mapped to the properties of a `MCParticle` object. The only complexity is to\n",
    "create the relations between the particles. The function `add_parent` is used to create the relations between the particles.\n",
    "The interpretation of the indices is described in the PYTHIA documentation:\n",
    "\n",
    "There are six allowed combinations of mother1 and mother2:\n",
    "- mother1 = mother2 = 0: for lines 0 - 2, where line 0 represents the event as a whole, and 1 and 2 the two incoming beam particles;\n",
    "- mother1 = mother2 > 0: the particle is a \"carbon copy\" of its mother, but with changed momentum as a \"recoil\" effect, e.g. in a shower;\n",
    "- mother1 > 0, mother2 = 0: the \"normal\" mother case, where it is meaningful to speak of one single mother to several products, in a shower or decay;\n",
    "- mother1 < mother2, both > 0, for abs(status) = 81 - 86: primary hadrons produced from the fragmentation of a string spanning the range from mother1 to mother2, so that all partons in this range should be considered mothers; and analogously for abs(status) = 101 - 106, the formation of R-hadrons;\n",
    "- mother1 < mother2, both > 0, except case 4: particles with two truly different mothers, in particular the particles emerging from a hard 2 → n interaction.\n",
    "- mother2 < mother1, both > 0: particles with two truly different mothers, notably for the special case that two nearby partons are joined together into a status 73 or 74 new parton, in the g + q → q case the q is made first mother to simplify flavour tracing.\n",
    "\n",
    "Note that indices in the `PYTHIA8.Event` start at 0, while in the `EDM4hep` types start at 1."
   ],
   "metadata": {}
  },
  {
   "outputs": [],
   "cell_type": "code",
   "source": [
    "function convertToEDM(event, onlyFinal=false)\n",
    "    # Initialize the MCParticle collection\n",
    "    mcps = getEDCollection(MCParticle) |> empty!\n",
    "    # Loop over the particles in the Pythia event\n",
    "    for p in event\n",
    "        onlyFinal && (p |> isFinal || continue)\n",
    "        # Create a new EDM particle\n",
    "        MCParticle(PDG = p |> id,\n",
    "                   generatorStatus = p |> status,\n",
    "                   charge = p |> charge,\n",
    "                   time = p |> tProd,\n",
    "                   mass = p |> m,\n",
    "                   vertex = Vector3d(p |> xProd, p |> yProd, p |> zProd),\n",
    "                   momentum = Vector3d(p |> px, p |> py, p |> pz),\n",
    "                   colorFlow = (p |> col, p|> acol)) |> register\n",
    "    end\n",
    "    onlyFinal && return mcps\n",
    "    # Loop over the particles in the Pythia event to create the relations (second pass)\n",
    "    for (i,p) in enumerate(event)\n",
    "        mcp = mcps[i]\n",
    "        m1, m2 = p |> mother1, p |> mother2\n",
    "        m1 == m2 > 0 &&  add_parent(mcp, mcps[m1+1])\n",
    "        m1 > 0 && m2 == 0 && add_parent(mcp, mcps[m1+1])\n",
    "        if 0 < m1 < m2\n",
    "            for j in m1:m2\n",
    "                add_parent(mcp, mcps[j+1])\n",
    "            end\n",
    "        end\n",
    "    end\n",
    "    return mcps\n",
    "end"
   ],
   "metadata": {},
   "execution_count": null
  },
  {
   "cell_type": "markdown",
   "source": [
    "### Generate a PYTHIA event"
   ],
   "metadata": {}
  },
  {
   "outputs": [],
   "cell_type": "code",
   "source": [
    "pythia = PYTHIA8.Pythia(\"\", false) # Create a PYTHIA object (mode=0, no output)\n",
    "pythia << \"Beams:eCM = 8000.\" <<\n",
    "          \"HardQCD:all = on\" <<\n",
    "          \"PhaseSpace:pTHatMin = 20.\";\n",
    "# The purpose of the next two lines is to reduce the amount of output during the event generation\n",
    "pythia << \"Next:numberShowEvent = 0\" <<\n",
    "          \"Next:numberShowProcess = 0\";\n",
    "pythia |> init\n",
    "pythia |> next"
   ],
   "metadata": {},
   "execution_count": null
  },
  {
   "cell_type": "markdown",
   "source": [
    "We convert now the PYTHIA event to `MCParticles` (only final particles in this case)"
   ],
   "metadata": {}
  },
  {
   "outputs": [],
   "cell_type": "code",
   "source": [
    "mcps = convertToEDM(event(pythia), true);"
   ],
   "metadata": {},
   "execution_count": null
  },
  {
   "cell_type": "markdown",
   "source": [
    "Lets's see if the conversion was successful and the set of particles conserves the energy, charge and momentum"
   ],
   "metadata": {}
  },
  {
   "outputs": [],
   "cell_type": "code",
   "source": [
    "println(\"Total energy = $(sum(p.energy for p in mcps))\")\n",
    "println(\"Total charge = $(sum(mcps.charge))\")\n",
    "println(\"Total momentum = $(sum(mcps.momentum))\")"
   ],
   "metadata": {},
   "execution_count": null
  },
  {
   "cell_type": "markdown",
   "source": [
    "We recover here ths center-of-mass energy, the total charge of 2 from the incident protons and the\n",
    "total momentum of the event (compatible with zero).\n",
    "\n",
    "Lets now display some selected decay trees inside the full `MCParticle` collection.\n",
    "We start by converting the PYTHIA event taking all particles this time.\n",
    "The, we implement a recursive function `printdecay`to print the decay tree of the particles."
   ],
   "metadata": {}
  },
  {
   "outputs": [],
   "cell_type": "code",
   "source": [
    "mcps = convertToEDM(event(pythia));\n",
    "function printdecay(indent, p)\n",
    "    println(isempty(indent) ? \"\" : indent*\"---> \", \"$(p.name) E=$(p.energy)\")\n",
    "    for d in p.daughters\n",
    "        printdecay(indent*\"   \", d)\n",
    "    end\n",
    "end"
   ],
   "metadata": {},
   "execution_count": null
  },
  {
   "cell_type": "markdown",
   "source": [
    "Lets use the function to print the decay trees of all the particles in the event\n",
    "that contains the charm quark. The module `Corpuscles` is used to identify the charm quark."
   ],
   "metadata": {}
  },
  {
   "outputs": [],
   "cell_type": "code",
   "source": [
    "for p in mcps\n",
    "    hascharm(p.PDG) || continue\n",
    "    printdecay(\"\", p)\n",
    "end"
   ],
   "metadata": {},
   "execution_count": null
  },
  {
   "cell_type": "markdown",
   "source": [
    "In another event we get obviously a different set of particles and decay trees."
   ],
   "metadata": {}
  },
  {
   "outputs": [],
   "cell_type": "code",
   "source": [
    "pythia |> next\n",
    "mcps = convertToEDM(event(pythia));\n",
    "for p in mcps\n",
    "    hascharm(p.PDG) || continue\n",
    "    printdecay(\"\", p)\n",
    "end"
   ],
   "metadata": {},
   "execution_count": null
  },
  {
   "cell_type": "markdown",
   "source": [
    "---\n",
    "\n",
    "*This notebook was generated using [Literate.jl](https://github.com/fredrikekre/Literate.jl).*"
   ],
   "metadata": {}
  }
 ],
 "nbformat_minor": 3,
 "metadata": {
  "language_info": {
   "file_extension": ".jl",
   "mimetype": "application/julia",
   "name": "julia",
   "version": "1.11.2"
  },
  "kernelspec": {
   "name": "julia-1.11",
   "display_name": "Julia 1.11.2",
   "language": "julia"
  }
 },
 "nbformat": 4
}
